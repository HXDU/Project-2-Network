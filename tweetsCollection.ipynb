{
 "cells": [
  {
   "cell_type": "code",
   "execution_count": 4,
   "metadata": {},
   "outputs": [],
   "source": [
    "import tweepy\n",
    "import csv"
   ]
  },
  {
   "cell_type": "code",
   "execution_count": 5,
   "metadata": {},
   "outputs": [],
   "source": []
  },
  {
   "cell_type": "code",
   "execution_count": 44,
   "metadata": {},
   "outputs": [],
   "source": [
    "auth = tweepy.OAuthHandler(consumer_key, consumer_secret)\n",
    "auth.set_access_token(access_token, access_token_secret)\n",
    "api = tweepy.API(auth) \n",
    "\n",
    "with open(\"trumptweets.csv\",\"w\") as csvfile:\n",
    "    writer = csv.writer(csvfile, delimiter = ',')\n",
    "    writer.writerow([\"favourite_count\", \"retweet_account\", \"time\", \"tweet\"])\n",
    "\n",
    "def remove_non_ascii(tweet):\n",
    "    return ''.join(i for i in tweet if ord(i) < 128)"
   ]
  },
  {
   "cell_type": "code",
   "execution_count": 61,
   "metadata": {},
   "outputs": [
    {
     "name": "stdout",
     "output_type": "stream",
     "text": [
      "2501\n"
     ]
    }
   ],
   "source": [
    "name = \"realDonaldTrump\"\n",
    "tweetCount = 300\n",
    "pageLimit = 15\n",
    "results = api.user_timeline(id = name, count = tweetCount, page = pageLimit)\n",
    "\n",
    "import re\n",
    "import string\n",
    "\n",
    "rule = r'@(.+?)\\s'\n",
    "\n",
    "with open(\"trumptweets.csv\",\"a\") as csvfile:\n",
    "    writer = csv.writer(csvfile, delimiter = '\\001')\n",
    "    for tweet in results:\n",
    "        text = tweet.text\n",
    "        text = remove_non_ascii(text)\n",
    "        fav_count = tweet.favorite_count\n",
    "        rt_count = tweet.retweet_count\n",
    "        time = tweet.created_at\n",
    "        if len(text) > 3 and fav_count != 0 and rt_count != 0 :\n",
    "            writer.writerow([fav_count, rt_count, time, text])\n",
    "            \n",
    "with open(\"trumptweets.csv\",\"r\") as f:\n",
    "    a = 0\n",
    "    for line in f:\n",
    "        a = a + 1\n",
    "print a"
   ]
  },
  {
   "cell_type": "code",
   "execution_count": 20,
   "metadata": {},
   "outputs": [],
   "source": [
    "tweet_num_seg_over_page_number_trump = [129, 284, 454, 593, 782, 972, 1127, 1299, 1480, 1650, 1837, 2017, 2159, 2336, 2501]\n",
    "tweet_num_seg_over_page_number_obama = [180, 363, 560, 751, 928, 1103, 1275, 1457, 1639, 1829, 2007, 2198, 2374, 2555, 2736]"
   ]
  },
  {
   "cell_type": "code",
   "execution_count": 9,
   "metadata": {},
   "outputs": [],
   "source": [
    "with open(\"obamatweets.csv\",\"w\") as csvfile:\n",
    "    writer = csv.writer(csvfile, delimiter = ',')\n",
    "    writer.writerow([\"favourite_count\", \"retweet_account\", \"time\", \"tweet\"])"
   ]
  },
  {
   "cell_type": "code",
   "execution_count": 24,
   "metadata": {},
   "outputs": [
    {
     "name": "stdout",
     "output_type": "stream",
     "text": [
      "2736\n"
     ]
    }
   ],
   "source": [
    "name2 = \"BarackObama\"\n",
    "pageLimit2 = 15\n",
    "result2 = api.user_timeline(id = name2, count = tweetCount, page = pageLimit2)\n",
    "\n",
    "with open(\"obamatweets.csv\",\"a\") as csvfile:\n",
    "    writer = csv.writer(csvfile, delimiter = '\\001')\n",
    "    for tweet in result2:\n",
    "        text = tweet.text\n",
    "        text = remove_non_ascii(text)\n",
    "        fav_count = tweet.favorite_count\n",
    "        rt_count = tweet.retweet_count\n",
    "        time = tweet.created_at\n",
    "        if len(text) > 3 and fav_count != 0 and rt_count != 0 :\n",
    "            writer.writerow([fav_count, rt_count, time, text])\n",
    "            \n",
    "with open(\"obamatweets.csv\",\"r\") as f:\n",
    "    b = 0\n",
    "    for line in f:\n",
    "        b = b + 1\n",
    "    print b"
   ]
  },
  {
   "cell_type": "code",
   "execution_count": 11,
   "metadata": {},
   "outputs": [],
   "source": []
  },
  {
   "cell_type": "code",
   "execution_count": null,
   "metadata": {},
   "outputs": [],
   "source": []
  }
 ],
 "metadata": {
  "kernelspec": {
   "display_name": "Python 2",
   "language": "python",
   "name": "python2"
  },
  "language_info": {
   "codemirror_mode": {
    "name": "ipython",
    "version": 2
   },
   "file_extension": ".py",
   "mimetype": "text/x-python",
   "name": "python",
   "nbconvert_exporter": "python",
   "pygments_lexer": "ipython2",
   "version": "2.7.15"
  }
 },
 "nbformat": 4,
 "nbformat_minor": 2
}
