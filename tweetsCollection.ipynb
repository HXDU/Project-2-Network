{
 "cells": [
  {
   "cell_type": "code",
   "execution_count": 1,
   "metadata": {},
   "outputs": [],
   "source": [
    "import tweepy"
   ]
  },
  {
   "cell_type": "code",
   "execution_count": 2,
   "metadata": {},
   "outputs": [],
   "source": [
    "consumer_key = \"*******************"\n",
    "consumer_secret = \"************************************"\n",
    "access_token = \"*********************************"\n",
    "access_token_secret = \"********************************""
   ]
  },
  {
   "cell_type": "code",
   "execution_count": 3,
   "metadata": {},
   "outputs": [],
   "source": [
    "auth = tweepy.OAuthHandler(consumer_key, consumer_secret)\n",
    "auth.set_access_token(access_token, access_token_secret)\n",
    "api = tweepy.API(auth) \n",
    "\n",
    "with open(\"trumptweets.csv\",\"w\") as csvfile:\n",
    "    writer = csv.writer(csvfile, delimiter = ',')\n",
    "    writer.writerow([\"favourite_count\", \"retweet_account\", \"time\", \"tweet\"])\n",
    "\n",
    "def remove_non_ascii(tweet):\n",
    "    return ''.join(i for i in tweet if ord(i) < 128)"
   ]
  },
  {
   "cell_type": "code",
   "execution_count": 44,
   "metadata": {},
   "outputs": [
    {
     "name": "stdout",
     "output_type": "stream",
     "text": [
      "1650\n"
     ]
    }
   ],
   "source": [
    "name = \"realDonaldTrump\"\n",
    "tweetCount = 300\n",
    "pageLimit = 10 \n",
    "results = api.user_timeline(id = name, count = tweetCount, page = pageLimit)\n",
    "\n",
    "import re\n",
    "import string\n",
    "import csv\n",
    "rule = r'@(.+?)\\s'\n",
    "\n",
    "with open(\"trumptweets.csv\",\"a\") as csvfile:\n",
    "    writer = csv.writer(csvfile, delimiter = ',')\n",
    "    for tweet in results:\n",
    "        text = tweet.text\n",
    "        text = remove_non_ascii(text)\n",
    "        fav_count = tweet.favorite_count\n",
    "        rt_count = tweet.retweet_count\n",
    "        time = tweet.created_at\n",
    "        if len(text) > 3 and fav_count != 0 and rt_count != 0 :\n",
    "            writer.writerow([fav_count, rt_count, time, text])\n",
    "            \n",
    "with open(\"trumptweets.csv\",\"r\") as f:\n",
    "    a = 0\n",
    "    for line in f:\n",
    "        a = a + 1\n",
    "print a"
   ]
  },
  {
   "cell_type": "code",
   "execution_count": 20,
   "metadata": {},
   "outputs": [],
   "source": [
    "tweet_num_seg_over_page_number_trump = [122, 283, 454, 643, 782, 972, 1136, 1304, 1476, 1650]\n",
    "tweet_num_seg_over_page_number_obama = [179, 363, 560, 751, 928, 1102, 1275, 1456, 1639, 1829]"
   ]
  },
  {
   "cell_type": "code",
   "execution_count": 47,
   "metadata": {},
   "outputs": [],
   "source": [
    "with open(\"obamatweets.csv\",\"w\") as csvfile:\n",
    "    writer = csv.writer(csvfile, delimiter = ',')\n",
    "    writer.writerow([\"favourite_count\", \"retweet_account\", \"time\", \"tweet\"])"
   ]
  },
  {
   "cell_type": "code",
   "execution_count": 58,
   "metadata": {},
   "outputs": [
    {
     "name": "stdout",
     "output_type": "stream",
     "text": [
      "1829\n"
     ]
    }
   ],
   "source": [
    "name2 = \"BarackObama\"\n",
    "pageLimit2 = 10\n",
    "result2 = api.user_timeline(id = name2, count = tweetCount, page = pageLimit2)\n",
    "\n",
    "with open(\"obamatweets.csv\",\"a\") as csvfile:\n",
    "    writer = csv.writer(csvfile, delimiter = ',')\n",
    "    for tweet in result2:\n",
    "        text = tweet.text\n",
    "        text = remove_non_ascii(text)\n",
    "        fav_count = tweet.favorite_count\n",
    "        rt_count = tweet.retweet_count\n",
    "        time = tweet.created_at\n",
    "        if len(text) > 3 and fav_count != 0 and rt_count != 0 :\n",
    "            writer.writerow([fav_count, rt_count, time, text])\n",
    "            \n",
    "with open(\"obamatweets.csv\",\"r\") as f:\n",
    "    b = 0\n",
    "    for line in f:\n",
    "        b = b + 1\n",
    "    print b"
   ]
  },
  {
   "cell_type": "code",
   "execution_count": 11,
   "metadata": {},
   "outputs": [],
   "source": [
    "if \"@\" in tweet.text:\n",
    "        temp = re.findall(rule, tweet.text)\n",
    "        for item in temp:\n",
    "            item = item.replace(\":\",\"\")\n",
    "            user = api.get_user(\"temp\")\n",
    "            print user"
   ]
  },
  {
   "cell_type": "code",
   "execution_count": null,
   "metadata": {},
   "outputs": [],
   "source": []
  }
 ],
 "metadata": {
  "kernelspec": {
   "display_name": "Python 2",
   "language": "python",
   "name": "python2"
  },
  "language_info": {
   "codemirror_mode": {
    "name": "ipython",
    "version": 2
   },
   "file_extension": ".py",
   "mimetype": "text/x-python",
   "name": "python",
   "nbconvert_exporter": "python",
   "pygments_lexer": "ipython2",
   "version": "2.7.15"
  }
 },
 "nbformat": 4,
 "nbformat_minor": 2
}
